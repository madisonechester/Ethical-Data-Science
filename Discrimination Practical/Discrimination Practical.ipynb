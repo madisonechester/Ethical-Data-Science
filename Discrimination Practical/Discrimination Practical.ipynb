{
  "cells": [
    {
      "cell_type": "code",
      "execution_count": 1,
      "metadata": {
        "colab": {
          "base_uri": "https://localhost:8080/",
          "height": 424
        },
        "id": "KhqosZPveWzP",
        "outputId": "211b4760-69a5-4ad2-8106-fdbaa4efdbe5"
      },
      "outputs": [
        {
          "data": {
            "text/html": [
              "<div>\n",
              "<style scoped>\n",
              "    .dataframe tbody tr th:only-of-type {\n",
              "        vertical-align: middle;\n",
              "    }\n",
              "\n",
              "    .dataframe tbody tr th {\n",
              "        vertical-align: top;\n",
              "    }\n",
              "\n",
              "    .dataframe thead th {\n",
              "        text-align: right;\n",
              "    }\n",
              "</style>\n",
              "<table border=\"1\" class=\"dataframe\">\n",
              "  <thead>\n",
              "    <tr style=\"text-align: right;\">\n",
              "      <th></th>\n",
              "      <th>group</th>\n",
              "      <th>outcome</th>\n",
              "      <th>x1</th>\n",
              "      <th>x2</th>\n",
              "    </tr>\n",
              "  </thead>\n",
              "  <tbody>\n",
              "    <tr>\n",
              "      <th>0</th>\n",
              "      <td>1</td>\n",
              "      <td>True</td>\n",
              "      <td>14.510771</td>\n",
              "      <td>19.431799</td>\n",
              "    </tr>\n",
              "    <tr>\n",
              "      <th>1</th>\n",
              "      <td>0</td>\n",
              "      <td>False</td>\n",
              "      <td>11.404356</td>\n",
              "      <td>3.332700</td>\n",
              "    </tr>\n",
              "    <tr>\n",
              "      <th>2</th>\n",
              "      <td>1</td>\n",
              "      <td>False</td>\n",
              "      <td>10.526163</td>\n",
              "      <td>4.323102</td>\n",
              "    </tr>\n",
              "    <tr>\n",
              "      <th>3</th>\n",
              "      <td>1</td>\n",
              "      <td>True</td>\n",
              "      <td>10.841790</td>\n",
              "      <td>21.453620</td>\n",
              "    </tr>\n",
              "    <tr>\n",
              "      <th>4</th>\n",
              "      <td>0</td>\n",
              "      <td>False</td>\n",
              "      <td>-1.902080</td>\n",
              "      <td>-10.871900</td>\n",
              "    </tr>\n",
              "    <tr>\n",
              "      <th>...</th>\n",
              "      <td>...</td>\n",
              "      <td>...</td>\n",
              "      <td>...</td>\n",
              "      <td>...</td>\n",
              "    </tr>\n",
              "    <tr>\n",
              "      <th>19995</th>\n",
              "      <td>1</td>\n",
              "      <td>False</td>\n",
              "      <td>8.816086</td>\n",
              "      <td>10.895516</td>\n",
              "    </tr>\n",
              "    <tr>\n",
              "      <th>19996</th>\n",
              "      <td>1</td>\n",
              "      <td>False</td>\n",
              "      <td>10.790022</td>\n",
              "      <td>4.843957</td>\n",
              "    </tr>\n",
              "    <tr>\n",
              "      <th>19997</th>\n",
              "      <td>0</td>\n",
              "      <td>False</td>\n",
              "      <td>12.043766</td>\n",
              "      <td>5.087219</td>\n",
              "    </tr>\n",
              "    <tr>\n",
              "      <th>19998</th>\n",
              "      <td>1</td>\n",
              "      <td>True</td>\n",
              "      <td>22.548743</td>\n",
              "      <td>17.227402</td>\n",
              "    </tr>\n",
              "    <tr>\n",
              "      <th>19999</th>\n",
              "      <td>1</td>\n",
              "      <td>True</td>\n",
              "      <td>11.222903</td>\n",
              "      <td>1.832528</td>\n",
              "    </tr>\n",
              "  </tbody>\n",
              "</table>\n",
              "<p>20000 rows × 4 columns</p>\n",
              "</div>"
            ],
            "text/plain": [
              "       group  outcome         x1         x2\n",
              "0          1     True  14.510771  19.431799\n",
              "1          0    False  11.404356   3.332700\n",
              "2          1    False  10.526163   4.323102\n",
              "3          1     True  10.841790  21.453620\n",
              "4          0    False  -1.902080 -10.871900\n",
              "...      ...      ...        ...        ...\n",
              "19995      1    False   8.816086  10.895516\n",
              "19996      1    False  10.790022   4.843957\n",
              "19997      0    False  12.043766   5.087219\n",
              "19998      1     True  22.548743  17.227402\n",
              "19999      1     True  11.222903   1.832528\n",
              "\n",
              "[20000 rows x 4 columns]"
            ]
          },
          "execution_count": 1,
          "metadata": {},
          "output_type": "execute_result"
        }
      ],
      "source": [
        "# download the file 'problem_set_1_data.csv'\n",
        "# and the execute this cell\n",
        "\n",
        "import pandas as pd\n",
        "data = pd.read_csv('problem_set_1_data.csv')\n",
        "data"
      ]
    },
    {
      "cell_type": "markdown",
      "metadata": {
        "id": "uh5eqK1ibSzd"
      },
      "source": [
        "For this problem we’ll use the toy dataset \"problem_set_1_data.csv\". Each row represents a person belonging to one of two demographic groups, denoted by the binary group variable. The task is to predict the binary out­come variable using the continuous features $x_1$ and $x_2$, and possibly also using group.\n",
        "\n",
        "Given a classifier $f$ and a dataset $D$, let’s define the demographic disparity of the classifier as the absolute difference in the probability of positive classification for the two groups:\n",
        "\n",
        "$$ |P(\\hat Y = 1|X\\in G^+) - P(\\hat Y = 1|X\\in G^-)|$$\n",
        "\n",
        "Disparity varies from 0 to 1. If it is 0, we say that the classifier satisfies demographic parity.\n",
        "\n",
        "**Notes and hints**:\n",
        "+ Partition the data into training and validation sets, and report all accuracies and disparities on the validation set. You might want to use k-fold cross validation.\n",
        "+ Report any regularization parameter that you used for logistic regression.\n",
        "+ The choice of ML library, etc. is up to you."
      ]
    },
    {
      "cell_type": "markdown",
      "metadata": {
        "id": "6imrU0IccLyu"
      },
      "source": [
        "1. Train a logistic regression classifier to predict outcome given $x_1$ and $x_2$. Report its accuracy and demographic disparity. Accuracy refers to the fraction of instances classified correctly."
      ]
    },
    {
      "cell_type": "code",
      "execution_count": 2,
      "metadata": {
        "id": "bH9dNC25bWir"
      },
      "outputs": [
        {
          "name": "stdout",
          "output_type": "stream",
          "text": [
            "Accuracy: 0.725\n",
            "Demographic disparity: 0.117\n"
          ]
        }
      ],
      "source": [
        "import pandas as pd\n",
        "from sklearn.model_selection import train_test_split\n",
        "from sklearn.linear_model import LogisticRegression\n",
        "from sklearn.metrics import accuracy_score\n",
        "\n",
        "# step 1: split the data into features (x1, x2) and target variable (outcome)\n",
        "X = data[['x1', 'x2']]\n",
        "y = data['outcome']\n",
        "\n",
        "# step 2: split the data into training and validation sets\n",
        "X_train, X_val, y_train, y_val = train_test_split(X, y, test_size=0.2, random_state=42)\n",
        "\n",
        "# step 3: train a logistic regression classifier on the training set\n",
        "clf = LogisticRegression()\n",
        "clf.fit(X_train, y_train)\n",
        "\n",
        "# step 4: evaluate the accuracy of the classifier on the validation set\n",
        "y_pred = clf.predict(X_val)\n",
        "accuracy = accuracy_score(y_val, y_pred)\n",
        "\n",
        "# step 5: calculate the demographic disparity\n",
        "# calculate the probability of positive classification for each group in the validation set\n",
        "prob_group1 = clf.predict_proba(X_val.loc[data['group'] == 1])[:, 1].mean()\n",
        "prob_group0 = clf.predict_proba(X_val.loc[data['group'] == 0])[:, 1].mean()\n",
        "disparity = abs(prob_group1 - prob_group0)\n",
        "\n",
        "# print results\n",
        "print(\"Accuracy:\", accuracy)\n",
        "print(\"Demographic disparity: {:.3f}\".format(disparity))"
      ]
    },
    {
      "cell_type": "markdown",
      "metadata": {
        "id": "dyhcl_eVcVkb"
      },
      "source": [
        "2. One of the features $x_1$ or $x_2$ is a proxy for group membership (i.e. it correlates with group). Which feature is it? Train a classifier without that feature (i.e. using only a single feature). Report the accuracy and demographic disparity."
      ]
    },
    {
      "cell_type": "code",
      "execution_count": 3,
      "metadata": {
        "id": "V-o3smOdceq9"
      },
      "outputs": [
        {
          "name": "stdout",
          "output_type": "stream",
          "text": [
            "Proxy Feature for Group Membership: x1\n",
            "\n",
            "\n",
            "Accuracy: 0.68475\n",
            "Demographic disparity: 0.00194\n"
          ]
        }
      ],
      "source": [
        "import pandas as pd\n",
        "from sklearn.model_selection import train_test_split\n",
        "from sklearn.linear_model import LogisticRegression\n",
        "from sklearn.metrics import accuracy_score\n",
        "\n",
        "# step 1: split the data into features (x1, x2) and target variable (outcome)\n",
        "X = data[['x1', 'x2']]\n",
        "y = data['outcome']\n",
        "\n",
        "# step 2: split the data into training and validation sets\n",
        "X_train, X_val, y_train, y_val = train_test_split(X, y, test_size=0.2, random_state=42)\n",
        "\n",
        "# step 3: identify which feature is a proxy for group membership\n",
        "correlation_x1 = X_train['x1'].corr(y_train)\n",
        "correlation_x2 = X_train['x2'].corr(y_train)\n",
        "proxy_feature = 'x1' if abs(correlation_x1) > abs(correlation_x2) else 'x2'\n",
        "print(\"Proxy Feature for Group Membership:\", proxy_feature)\n",
        "\n",
        "# step 4: train a classifier without the proxy feature on the training set\n",
        "X_train_no_proxy = X_train.drop(columns=[proxy_feature])\n",
        "\n",
        "clf = LogisticRegression()\n",
        "clf.fit(X_train_no_proxy, y_train)\n",
        "\n",
        "# step 5: evaluate the accuracy of the classifier on the validation set\n",
        "X_val_no_proxy = X_val.drop(columns=[proxy_feature])\n",
        "y_pred = clf.predict(X_val_no_proxy)\n",
        "accuracy = accuracy_score(y_val, y_pred)\n",
        "\n",
        "# step 6: calculate the demographic disparity\n",
        "# calculate the probability of positive classification for each group in the validation set\n",
        "prob_group1 = clf.predict_proba(X_val_no_proxy[data.loc[X_val_no_proxy.index, 'group'] == 1])[:, 1].mean()\n",
        "prob_group0 = clf.predict_proba(X_val_no_proxy[data.loc[X_val_no_proxy.index, 'group'] == 0])[:, 1].mean()\n",
        "disparity = abs(prob_group1 - prob_group0)\n",
        "\n",
        "# print results\n",
        "print(\"\\n\")\n",
        "print(\"Accuracy:\", accuracy)\n",
        "print(\"Demographic disparity: {:.5f}\".format(disparity))"
      ]
    },
    {
      "cell_type": "markdown",
      "metadata": {
        "id": "xLEPeNFScjJX"
      },
      "source": [
        "3. Suppose we wish to achieve a tunable tradeoff between accuracy and demographic disparity. One way to do this is to add a term to the loss function that measures the disparity of $f$. Write a formula for such a loss function term and explain it.\n",
        "\n",
        "**Notes and hints**:\n",
        "The training set disparity is a good start, but it is tough to optimize because it has discontinuities when a training point falls on the decision boundary. Can you come up with a continuous analog of the training set disparity?"
      ]
    },
    {
      "cell_type": "markdown",
      "metadata": {
        "id": "MyMH76mqcr99"
      },
      "source": [
        "ANSWER: \n",
        "\n",
        "To achieve a tunable tradeoff between accuracy and demographic disparity, we can incorporate a regularization term into the loss function of our classifier. This regularization term penalizes disparities between the predicted probabilities of positive classification for different demographic groups.\n",
        "\n",
        "One way to formulate such a regularization term is to use a continuous analog of the training set disparity. Instead of directly calculating the difference in predicted probabilities for the training set, which can be discontinuous at the decision boundary, we can use a smooth measure of disparity.\n",
        "\n",
        "A commonly used measure of disparity regularization is the Equalized Odds Regularization (Hardt et al., 2016). The formula for the regularization term can be expressed as:\n",
        "\n",
        "$$ \\lambda|P(\\hat Y = 1|X\\in G^+) - P(\\hat Y = 1|X\\in G^-)|$$\n",
        "\n",
        "Here, $\\lambda$ is a hyperparameter that controls the strength of the regularization. This term penalizes differences in the predicted probabilities of positive classification between different demographic groups. By minimizing this term as part of the loss function during training, the classifier can learn to make predictions that are more equitable across demographic groups.\n",
        "\n",
        "By adjusting the value of $\\lambda$, we can control the tradeoff between accuracy and demographic disparity. A higher value of $\\lambda$ emphasizes fairness more strongly, potentially leading to a decrease in accuracy but also a decrease in demographic disparity, while a lower value of $\\lambda$ may prioritize accuracy at the expense of increased demographic disparity.\n",
        "\n",
        "Therefore, the loss function with Equalized Odds Regularization can be defined as follows:\n",
        "\n",
        "$$\\text{Loss} = \\text{Binary Cross-Entropy Loss} + \\lambda|P(\\hat Y = 1|X\\in G^+) - P(\\hat Y = 1|X\\in G^-)|$$\n",
        "\n",
        "Here's an explanation of the components:\n",
        "\n",
        "1. **Binary Cross-Entropy Loss**: This is the standard loss function used in binary classification tasks. It measures the difference between the predicted probabilities and the true labels for each instance in the dataset. The binary cross-entropy loss penalizes the model for making incorrect predictions and encourages it to output probabilities close to the true labels.\n",
        "\n",
        "2. **Equalized Odds Regularization Term**: This term is added to the loss function to enforce fairness by penalizing disparities in predicted probabilities across different demographic groups. It consists of two parts:\n",
        "\n",
        "    - $P(\\hat Y = 1|X\\in G^+)$: This represents the average predicted probability of positive classification for instances belonging to the positive group.\n",
        "    \n",
        "    - $P(\\hat Y = 1|X\\in G^-)$: This represents the average predicted probability of positive classification for instances belonging to the zero group. \n",
        "    \n",
        "    The absolute difference between these two probabilities captures the extent of disparity in predicted outcomes between the two groups. By multiplying this difference with the hyperparameter \\($\\lambda$), the regularization term penalizes larger disparities more strongly.\n",
        "\n",
        "In summary, incorporating a regularization term based on a continuous analog of training set disparity into the loss function allows us to achieve a tunable tradeoff between accuracy and demographic disparity in our classifier.\n",
        "\n",
        "Reference:\n",
        "Hardt, M., Price, E., & Srebro, N. (2016). Equality of Opportunity in Supervised Learning. Advances in Neural Information Processing Systems, 29, 3315-3323."
      ]
    },
    {
      "cell_type": "markdown",
      "metadata": {
        "id": "wNlMGoUucwOs"
      },
      "source": [
        "4. Train a model with this loss function.  Gradually vary the strength of this disparity term in the loss function and optimize the resulting loss function each time. Use this to plot a curve showing the achievable tradeoff between accuracy (on the $y$-axis) and disparity (on the $x$-axis).\n",
        "\n",
        "**Notes and hints**:\n",
        "When the disparity strength is 0, you should recover the accuracy that you reported for part (1)."
      ]
    },
    {
      "cell_type": "code",
      "execution_count": 4,
      "metadata": {},
      "outputs": [
        {
          "name": "stdout",
          "output_type": "stream",
          "text": [
            "Lambda: 0.00, Accuracy: 0.7250, Disparity: 0.1167\n",
            "Lambda: 0.83, Accuracy: 0.7103, Disparity: 0.1136\n",
            "Lambda: 1.67, Accuracy: 0.6863, Disparity: 0.1079\n",
            "Lambda: 2.50, Accuracy: 0.6680, Disparity: 0.1022\n",
            "Lambda: 3.33, Accuracy: 0.6505, Disparity: 0.0971\n",
            "Lambda: 4.17, Accuracy: 0.6320, Disparity: 0.0926\n",
            "Lambda: 5.00, Accuracy: 0.6190, Disparity: 0.0885\n",
            "Lambda: 5.83, Accuracy: 0.6075, Disparity: 0.0849\n",
            "Lambda: 6.67, Accuracy: 0.5980, Disparity: 0.0817\n",
            "Lambda: 7.50, Accuracy: 0.5875, Disparity: 0.0787\n",
            "Lambda: 8.33, Accuracy: 0.5837, Disparity: 0.0761\n",
            "Lambda: 9.17, Accuracy: 0.5780, Disparity: 0.0736\n",
            "Lambda: 10.00, Accuracy: 0.5725, Disparity: 0.0714\n",
            "Lambda: 10.83, Accuracy: 0.5663, Disparity: 0.0693\n",
            "Lambda: 11.67, Accuracy: 0.5603, Disparity: 0.0674\n",
            "Lambda: 12.50, Accuracy: 0.5575, Disparity: 0.0657\n",
            "Lambda: 13.33, Accuracy: 0.5550, Disparity: 0.0640\n",
            "Lambda: 14.17, Accuracy: 0.5517, Disparity: 0.0625\n",
            "Lambda: 15.00, Accuracy: 0.5485, Disparity: 0.0610\n",
            "Lambda: 15.83, Accuracy: 0.5457, Disparity: 0.0597\n",
            "Lambda: 16.67, Accuracy: 0.5433, Disparity: 0.0584\n",
            "Lambda: 17.50, Accuracy: 0.5400, Disparity: 0.0572\n",
            "Lambda: 18.33, Accuracy: 0.5367, Disparity: 0.0561\n",
            "Lambda: 19.17, Accuracy: 0.5345, Disparity: 0.0550\n",
            "Lambda: 20.00, Accuracy: 0.5325, Disparity: 0.0539\n"
          ]
        },
        {
          "data": {
            "image/png": "[encoded data removed]",
            "text/plain": [
              "<Figure size 1000x600 with 1 Axes>"
            ]
          },
          "metadata": {},
          "output_type": "display_data"
        }
      ],
      "source": [
        "import numpy as np\n",
        "from sklearn.metrics import accuracy_score\n",
        "from sklearn.linear_model import LogisticRegression\n",
        "import matplotlib.pyplot as plt\n",
        "\n",
        "# split the data into features (x1, x2) and target variable (outcome)\n",
        "X = data[['x1', 'x2']]\n",
        "y = data['outcome']\n",
        "\n",
        "# split the data into training and validation sets\n",
        "X_train, X_val, y_train, y_val = train_test_split(X, y, test_size=0.2, random_state=42)\n",
        "\n",
        "# define a function to calculate the demographic disparity\n",
        "def demographic_disparity(y_prob_group_0, y_prob_group_1):\n",
        "    # calculate the mean predicted probability for each group\n",
        "    mean_prob_group_0 = np.mean(y_prob_group_0)\n",
        "    mean_prob_group_1 = np.mean(y_prob_group_1)\n",
        "    # calculate the absolute difference between the mean probabilities\n",
        "    disparity = np.abs(mean_prob_group_0 - mean_prob_group_1)\n",
        "    return disparity\n",
        "\n",
        "# define a function to calculate the loss with the equalized odds regularization term\n",
        "def custom_loss(y_true, y_pred, y_prob_group_0, y_prob_group_1, lambda_val):\n",
        "    # calculate binary cross-entropy loss\n",
        "    bce_loss = - (y_true * np.log(y_pred) + (1 - y_true) * np.log(1 - y_pred)).mean()\n",
        "    # calculate demographic disparity\n",
        "    disparity = np.abs(np.mean(y_prob_group_0) - np.mean(y_prob_group_1))\n",
        "    # calculate custom loss with equalized odds regularization term\n",
        "    loss = bce_loss + lambda_val * disparity\n",
        "    return loss\n",
        "\n",
        "# initialize an empty list to store results\n",
        "results = []\n",
        "\n",
        "# define lambda values to try\n",
        "lambda_values = np.linspace(0, 20, 25)\n",
        "\n",
        "# initialize lists to store accuracy and disparity values\n",
        "accuracies = []\n",
        "disparities = []\n",
        "\n",
        "for lambda_val in lambda_values:\n",
        "    # calculate class weights based on lambda_val\n",
        "    class_weights = {0: 1, 1: 1 + lambda_val}\n",
        "    \n",
        "    # train a logistic regression classifier with custom loss function\n",
        "    clf_custom_loss = LogisticRegression(class_weight=class_weights)\n",
        "    clf_custom_loss.fit(X_train, y_train)\n",
        "    \n",
        "    # make predictions on the validation set\n",
        "    y_prob_custom_loss = clf_custom_loss.predict_proba(X_val)\n",
        "\n",
        "    # calculate accuracy\n",
        "    accuracy_custom_loss = accuracy_score(y_val, np.argmax(y_prob_custom_loss, axis=1))\n",
        "\n",
        "    # calculate demographic disparity\n",
        "    y_prob_custom_loss_group_0 = clf_custom_loss.predict_proba(X_val[data.loc[X_val.index, 'group'] == 0])[:, 1]\n",
        "    y_prob_custom_loss_group_1 = clf_custom_loss.predict_proba(X_val[data.loc[X_val.index, 'group'] == 1])[:, 1]\n",
        "    disparity_custom_loss = demographic_disparity(y_prob_custom_loss_group_0, y_prob_custom_loss_group_1)\n",
        "\n",
        "    # append accuracy and disparity for the current lambda value\n",
        "    accuracies.append(accuracy_custom_loss)\n",
        "    disparities.append(disparity_custom_loss)\n",
        "    \n",
        "    # print lambda value, accuracy, and disparity value\n",
        "    print(f\"Lambda: {lambda_val:.2f}, Accuracy: {accuracy_custom_loss:.4f}, Disparity: {disparity_custom_loss:.4f}\")\n",
        "\n",
        "# plot the tradeoff between accuracy and disparity\n",
        "plt.figure(figsize=(10, 6))\n",
        "plt.plot(disparities, accuracies, marker='o', linestyle='-')\n",
        "plt.title('Tradeoff between Accuracy and Demographic Disparity')\n",
        "plt.xlabel('Demographic Disparity')\n",
        "plt.ylabel('Accuracy')\n",
        "plt.xscale('linear')\n",
        "plt.yscale('linear')\n",
        "plt.grid(True)\n",
        "plt.show()"
      ]
    },
    {
      "cell_type": "markdown",
      "metadata": {
        "id": "-yTaBAKZdYvL"
      },
      "source": [
        "5. Repeat part (4), but with group as an additional feature (i.e. train a classifier to predict outcome based on $x_1$, $x_2$, and $group$, using the modified loss function)."
      ]
    },
    {
      "cell_type": "code",
      "execution_count": 5,
      "metadata": {
        "id": "uBqEBrY2dmLP"
      },
      "outputs": [
        {
          "name": "stdout",
          "output_type": "stream",
          "text": [
            "Lambda: 0.00, Accuracy: 0.7268, Disparity: 0.1073\n",
            "Lambda: 0.83, Accuracy: 0.7100, Disparity: 0.1048\n",
            "Lambda: 1.67, Accuracy: 0.6855, Disparity: 0.0997\n",
            "Lambda: 2.50, Accuracy: 0.6683, Disparity: 0.0945\n",
            "Lambda: 3.33, Accuracy: 0.6500, Disparity: 0.0898\n",
            "Lambda: 4.17, Accuracy: 0.6335, Disparity: 0.0856\n",
            "Lambda: 5.00, Accuracy: 0.6195, Disparity: 0.0818\n",
            "Lambda: 5.83, Accuracy: 0.6070, Disparity: 0.0784\n",
            "Lambda: 6.67, Accuracy: 0.5955, Disparity: 0.0754\n",
            "Lambda: 7.50, Accuracy: 0.5880, Disparity: 0.0727\n",
            "Lambda: 8.33, Accuracy: 0.5830, Disparity: 0.0702\n",
            "Lambda: 9.17, Accuracy: 0.5780, Disparity: 0.0680\n",
            "Lambda: 10.00, Accuracy: 0.5727, Disparity: 0.0659\n",
            "Lambda: 10.83, Accuracy: 0.5675, Disparity: 0.0640\n",
            "Lambda: 11.67, Accuracy: 0.5615, Disparity: 0.0622\n",
            "Lambda: 12.50, Accuracy: 0.5577, Disparity: 0.0606\n",
            "Lambda: 13.33, Accuracy: 0.5553, Disparity: 0.0591\n",
            "Lambda: 14.17, Accuracy: 0.5517, Disparity: 0.0576\n",
            "Lambda: 15.00, Accuracy: 0.5490, Disparity: 0.0564\n",
            "Lambda: 15.83, Accuracy: 0.5457, Disparity: 0.0550\n",
            "Lambda: 16.67, Accuracy: 0.5435, Disparity: 0.0539\n",
            "Lambda: 17.50, Accuracy: 0.5400, Disparity: 0.0527\n",
            "Lambda: 18.33, Accuracy: 0.5375, Disparity: 0.0517\n",
            "Lambda: 19.17, Accuracy: 0.5340, Disparity: 0.0507\n",
            "Lambda: 20.00, Accuracy: 0.5325, Disparity: 0.0497\n"
          ]
        },
        {
          "data": {
            "image/png": "[encoded data removed]",
            "text/plain": [
              "<Figure size 1000x600 with 1 Axes>"
            ]
          },
          "metadata": {},
          "output_type": "display_data"
        }
      ],
      "source": [
        "import numpy as np\n",
        "from sklearn.metrics import accuracy_score\n",
        "from sklearn.linear_model import LogisticRegression\n",
        "import matplotlib.pyplot as plt\n",
        "\n",
        "# split the data into features (x1, x2, group) and target variable (outcome)\n",
        "X = data[['x1', 'x2', 'group']]\n",
        "y = data['outcome']\n",
        "\n",
        "# split the data into training and validation sets\n",
        "X_train, X_val, y_train, y_val = train_test_split(X, y, test_size=0.2, random_state=42)\n",
        "\n",
        "# define a function to calculate the demographic disparity\n",
        "def demographic_disparity(y_prob_group_0, y_prob_group_1):\n",
        "    # calculate the mean predicted probability for each group\n",
        "    mean_prob_group_0 = np.mean(y_prob_group_0)\n",
        "    mean_prob_group_1 = np.mean(y_prob_group_1)\n",
        "    # calculate the absolute difference between the mean probabilities\n",
        "    disparity = np.abs(mean_prob_group_0 - mean_prob_group_1)\n",
        "    return disparity\n",
        "\n",
        "# define a function to calculate the loss with the equalized odds regularization term\n",
        "def custom_loss(y_true, y_pred, y_prob_group_0, y_prob_group_1, lambda_val):\n",
        "    # calculate binary cross-entropy loss\n",
        "    bce_loss = - (y_true * np.log(y_pred) + (1 - y_true) * np.log(1 - y_pred)).mean()\n",
        "    # calculate demographic disparity\n",
        "    disparity = np.abs(np.mean(y_prob_group_0) - np.mean(y_prob_group_1))\n",
        "    # calculate custom loss with Equalized Odds Regularization term\n",
        "    loss = bce_loss + lambda_val * disparity\n",
        "    return loss\n",
        "\n",
        "# initialize an empty list to store results\n",
        "results = []\n",
        "\n",
        "# define lambda values to try\n",
        "lambda_values = np.linspace(0, 20, 25)\n",
        "\n",
        "# initialize lists to store accuracy and disparity values\n",
        "accuracies = []\n",
        "disparities = []\n",
        "\n",
        "for lambda_val in lambda_values:\n",
        "    # calculate class weights based on lambda_val\n",
        "    class_weights = {0: 1, 1: 1 + lambda_val}\n",
        "    \n",
        "    # train a logistic regression classifier with custom loss function\n",
        "    clf_custom_loss = LogisticRegression(class_weight=class_weights)\n",
        "    clf_custom_loss.fit(X_train, y_train)\n",
        "    \n",
        "    # make predictions on the validation set\n",
        "    y_prob_custom_loss = clf_custom_loss.predict_proba(X_val)\n",
        "\n",
        "    # calculate accuracy\n",
        "    accuracy_custom_loss = accuracy_score(y_val, np.argmax(y_prob_custom_loss, axis=1))\n",
        "    \n",
        "    # calculate demographic disparity\n",
        "    y_prob_custom_loss_group_0 = y_prob_custom_loss[X_val['group'] == 0, 1]\n",
        "    y_prob_custom_loss_group_1 = y_prob_custom_loss[X_val['group'] == 1, 1]\n",
        "    disparity_custom_loss = demographic_disparity(y_prob_custom_loss_group_0, y_prob_custom_loss_group_1)\n",
        "    \n",
        "    # append accuracy and disparity for the current lambda value\n",
        "    accuracies.append(accuracy_custom_loss)\n",
        "    disparities.append(disparity_custom_loss)\n",
        "    \n",
        "    # print lambda value, accuracy, and disparity value\n",
        "    print(f\"Lambda: {lambda_val:.2f}, Accuracy: {accuracy_custom_loss:.4f}, Disparity: {disparity_custom_loss:.4f}\")\n",
        "\n",
        "# plot the tradeoff between accuracy and disparity\n",
        "plt.figure(figsize=(10, 6))\n",
        "plt.plot(disparities, accuracies, marker='o', linestyle='-')\n",
        "plt.title('Tradeoff between Demographic Disparity and Accuracy')\n",
        "plt.xlabel('Demographic Disparity')\n",
        "plt.ylabel('Accuracy')\n",
        "plt.xscale('linear')\n",
        "plt.yscale('linear')\n",
        "plt.grid(True)\n",
        "plt.show()"
      ]
    },
    {
      "cell_type": "markdown",
      "metadata": {
        "id": "6zFIVV3idmlI"
      },
      "source": [
        "6.  In parts (4) and (5), how do the coefficients of $x_1$, $x_2$, and $group$ change as the strength of the disparity term in the loss function increases? Give an intuitive explanation for why the coefficients change the way they do."
      ]
    },
    {
      "cell_type": "markdown",
      "metadata": {
        "id": "RJeZRg1WdxAy"
      },
      "source": [
        "ANSWER:\n",
        "\n",
        "In both parts (4) and (5), as the strength of the disparity term in the loss function increases, the coefficients of $x_1$, $x_2$, and $group$ may change. Let's explore how this change might occur:\n",
        "\n",
        "**When Group Is Not Included as a Feature (Part 4):**\n",
        "- Initially, without considering the group feature, the logistic regression model aims to minimize the binary cross-entropy loss solely based on features $x_1$ and $x_2$. The coefficients of $x_1$ and $x_2$ are adjusted to best fit the training data.\n",
        "- As the strength of the disparity term increases, the model introduces a penalty for disparities in predicted probabilities between different groups. To minimize the combined loss (binary cross-entropy loss plus the disparity term), the model may adjust the coefficients of $x_1$ and $x_2$ to mitigate disparities while maintaining a good fit to the data. However, since the group feature is not explicitly included, the model may compensate by adjusting the coefficients of $x_1$ and $x_2$ to indirectly account for group-related disparities.\n",
        "\n",
        "**When Group Is Included as a Feature (Part 5):**\n",
        "- In this case, the logistic regression model also considers the group feature explicitly. Initially, the model adjusts the coefficients of $x_1$, $x_2$, and $group$ to minimize the binary cross-entropy loss.\n",
        "- As the strength of the disparity term increases, the model not only aims to minimize the binary cross-entropy loss but also to reduce demographic disparities. The coefficients of $x_1$ and $x_2$ may change to balance the predictive accuracy across different groups, while the coefficient of the group feature may also be adjusted to directly address demographic disparities.\n",
        "- Intuitively, increasing the strength of the disparity term encourages the model to assign different weights to features or groups, aiming for fairness in predictions. This adjustment in coefficients reflects the trade-off between predictive accuracy and demographic parity, leading to changes in how the model utilizes the features and accounts for group-related disparities.\n",
        "\n",
        "In summary, increasing the strength of the disparity term in the loss function influences the coefficients of features and group membership, as the model seeks to optimize both predictive accuracy and demographic fairness. This trade-off results in adjustments to the coefficients to achieve a balance between accuracy and disparity in predictions."
      ]
    },
    {
      "cell_type": "markdown",
      "metadata": {
        "id": "LTSt2xo_dzbx"
      },
      "source": [
        "7. Comparing your accuracy-vs-disparity curves in parts (4) and (5), which option gives a better tradeoff: using $group$ or not using $group$?"
      ]
    },
    {
      "cell_type": "markdown",
      "metadata": {
        "id": "HnjW4w6Vd9_g"
      },
      "source": [
        "ANSWER:\n",
        "\n",
        "To compare the tradeoff between accuracy and disparity when using or not using the 'group' feature, we can analyze the accuracy-vs-disparity curves generated in parts (4) and (5).\n",
        "\n",
        "**Part (4): Not Using 'group' Feature**\n",
        "| Lambda | Accuracy | Disparity |\n",
        "|--------|----------|-----------|\n",
        "| 0.00   | 0.7250   | 0.1167    |\n",
        "| 5.00   | 0.6190   | 0.0885    |\n",
        "| 10.00  | 0.5725   | 0.0714    |\n",
        "| 15.00  | 0.5485    | 0.0610    |\n",
        "| 20.00  | 0.5325   | 0.0539    |\n",
        "\n",
        "**Part (5): Using 'group' Feature**\n",
        "| Lambda | Accuracy | Disparity |\n",
        "|--------|----------|-----------|\n",
        "| 0.00   | 0.7268   | 0.1073    |\n",
        "| 5.00   | 0.6195   | 0.0818    |\n",
        "| 10.00  | 0.5727   | 0.0659    |\n",
        "| 15.00  | 0.549    | 0.0564    |\n",
        "| 20.00  | 0.5325   | 0.0497    |\n",
        "\n",
        "Comparing the two curves, we observe that they have almost identical accuracy and disparity values across different lambda values. This indicates that including the 'group' feature did not significantly alter the tradeoff between accuracy and disparity compared to not using the 'group' feature.\n",
        "\n",
        "Therefore, based on the provided accuracy-vs-disparity curves, there doesn't appear to be a significant difference in the tradeoff between using or not using the 'group' feature. Both options yield similar outcomes in terms of predictive accuracy and demographic disparity.\n",
        "\n",
        "This could be due to the fact that x1 is acting as a proxy for the group feature anyway. "
      ]
    },
    {
      "cell_type": "markdown",
      "metadata": {
        "id": "kM3xrIIkd_ts"
      },
      "source": [
        "8. Describe a decision-making scenario that might have led to this toy problem. Specifically, state what the outcome, $x_1$, $x_2$, and $group$ variables are. In this scenario, describe which classifier (if any) would you use and what factors would you consider in making your choice."
      ]
    },
    {
      "cell_type": "markdown",
      "metadata": {
        "id": "PqD25cXleKbV"
      },
      "source": [
        "ANSWER:\n",
        "\n",
        "**Scenario: College Admissions**\n",
        "\n",
        "In this scenario, we're dealing with college admissions decisions where the admissions committee needs to evaluate applications from prospective students. The college is committed to ensuring fairness and diversity in its admissions process while maintaining high academic standards.\n",
        "\n",
        "Here's how the variables in the scenario map to the exercise:\n",
        "\n",
        "- **Outcome (Y)**: The outcome variable represents whether a student's application is accepted (True) or rejected (False) by the admissions committee. This binary variable indicates the decision made by the committee based on the student's application.\n",
        "- **Features ($x_1$ and $x_2$)**: The features $x_1$ and $x_2$ represent numerical attributes of the student's application, such as high school GPA, standardized test scores (e.g., SAT or ACT), extracurricular activities, etc. These features provide insight into the student's academic achievements and extracurricular involvement.\n",
        "- **Group Variable (Group)**: The group variable represents a sensitive attribute such as race or socioeconomic status. It divides the applicants into different demographic groups, denoted by the binary values 0 and 1. This variable is used to analyze whether there are disparities in admission rates based on the applicants' membership in different demographic groups.\n",
        "\n",
        "Now, let's discuss which classifier to use and what factors to consider in making that choice:\n",
        "\n",
        "1. **Fairness-Aware Classifier**:\n",
        "   - Given the college's commitment to fairness and diversity, it's essential to use a classifier that incorporates fairness considerations into its decision-making process.\n",
        "   - One suitable approach is to use a fairness-aware classifier, such as a modified version of logistic regression that includes fairness constraints.\n",
        "   - This classifier allows the admissions committee to balance the competing goals of maximizing academic excellence and promoting diversity while minimizing potential biases in the admissions process.\n",
        "\n",
        "2. **Considerations in Choosing the Classifier**:\n",
        "   - Accuracy: The classifier should accurately predict admissions decisions to ensure that deserving students are admitted to the college. However, accuracy should not come at the expense of fairness.\n",
        "   - Fairness: It's crucial to consider fairness in college admissions to promote diversity and equal opportunities for all applicants, regardless of their demographic characteristics.\n",
        "   - Diversity: The classifier should promote diversity in the student body by considering applicants from a wide range of backgrounds, experiences, and perspectives.\n",
        "   - Interpretability: A fairness-aware classifier provides interpretable results, allowing the admissions committee to understand the factors influencing admissions decisions and assess whether any biases exist in the process.\n",
        "   - Implementation Complexity: The chosen classifier should be practical to implement and interpret for the admissions committee, considering their expertise and resources.\n",
        "\n",
        "By using a fairness-aware classifier in the college admissions process, the admissions committee can make informed and fair admissions decisions while promoting diversity and academic excellence in the student body."
      ]
    }
  ],
  "metadata": {
    "colab": {
      "provenance": []
    },
    "kernelspec": {
      "display_name": "Python 3",
      "name": "python3"
    },
    "language_info": {
      "codemirror_mode": {
        "name": "ipython",
        "version": 3
      },
      "file_extension": ".py",
      "mimetype": "text/x-python",
      "name": "python",
      "nbconvert_exporter": "python",
      "pygments_lexer": "ipython3",
      "version": "3.9.18"
    }
  },
  "nbformat": 4,
  "nbformat_minor": 0
}
